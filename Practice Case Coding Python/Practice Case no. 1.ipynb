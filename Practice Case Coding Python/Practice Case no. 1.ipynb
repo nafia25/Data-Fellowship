{
 "cells": [
  {
   "cell_type": "code",
   "execution_count": 1,
   "metadata": {},
   "outputs": [
    {
     "name": "stdout",
     "output_type": "stream",
     "text": [
      "('id', 'insert_time', 'tx_amount', 'tx_type', 'status')\n",
      "(1, '12:48', 23.21, 'buy', 'close')\n",
      "(2, '10:06', 48.61, 'buy', 'open')\n",
      "(3, '10:44', 50.8, 'buy', 'open')\n",
      "(4, '10:53', 4.14, 'sell', 'close')\n",
      "(5, '14:48', 70.88, 'sell', 'close')\n",
      "(6, '14:29', 50.93, 'buy', 'open')\n",
      "(7, '14:49', 74.55, 'buy', 'open')\n"
     ]
    }
   ],
   "source": [
    "import sqlite3\n",
    "\n",
    "con = sqlite3.connect(':memory:')\n",
    "cur = con.cursor()\n",
    "\n",
    "cur.execute('''\n",
    "CREATE TABLE trx (id INTEGER, insert_time TEXT, tx_amount FLOAT, tx_type TEXT, status TEXT)\n",
    "''')\n",
    "\n",
    "cur.execute('''\n",
    "INSERT INTO trx VALUES \n",
    "(1,'09:38',23.21,'buy','open'),\n",
    "(2,'10:06',48.61,'buy','open'),\n",
    "(3,'10:44',50.8,'buy','open'),\n",
    "(4,'10:46',4.14,'sell','open'),\n",
    "(4,'10:53',4.14,'sell','close'),\n",
    "(1,'12:48',23.21,'buy','close'),\n",
    "(5,'12:51',70.88,'sell','open'),\n",
    "(6,'14:29',50.93,'buy','open'),\n",
    "(5,'14:48',70.88,'sell','close'),\n",
    "(7,'14:49',74.55,'buy','open')\n",
    "''')\n",
    "\n",
    "cur.execute('''\n",
    "SELECT * FROM trx\n",
    "''')\n",
    "\n",
    "rows = cur.fetchall()\n",
    "\n",
    "rows_sorted = sorted(rows, key = lambda i: (i[0],i[1]), reverse = True)\n",
    "\n",
    "id = []\n",
    "for row in range(len(rows)):\n",
    "    id.append(rows[row][0])\n",
    "\n",
    "new_list = []\n",
    "for i in set(id):\n",
    "    for row in range(len(rows_sorted)):\n",
    "        if rows_sorted[row][0] == i:\n",
    "            new_list.append(rows_sorted[row])\n",
    "            break\n",
    "\n",
    "txs_list = sorted(new_list, key = lambda i: i[0])\n",
    "\n",
    "print(('id', 'insert_time', 'tx_amount', 'tx_type', 'status'))\n",
    "for i in range(len(txs_list)):\n",
    "    print(txs_list[i])"
   ]
  }
 ],
 "metadata": {
  "kernelspec": {
   "display_name": "Python 3",
   "language": "python",
   "name": "python3"
  },
  "language_info": {
   "codemirror_mode": {
    "name": "ipython",
    "version": 3
   },
   "file_extension": ".py",
   "mimetype": "text/x-python",
   "name": "python",
   "nbconvert_exporter": "python",
   "pygments_lexer": "ipython3",
   "version": "3.7.6"
  }
 },
 "nbformat": 4,
 "nbformat_minor": 4
}
