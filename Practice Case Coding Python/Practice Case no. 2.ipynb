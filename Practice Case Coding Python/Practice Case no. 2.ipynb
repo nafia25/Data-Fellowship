{
 "cells": [
  {
   "cell_type": "code",
   "execution_count": 1,
   "metadata": {},
   "outputs": [],
   "source": [
    "import sqlite3"
   ]
  },
  {
   "cell_type": "code",
   "execution_count": 2,
   "metadata": {},
   "outputs": [],
   "source": [
    "con = sqlite3.connect(':memory:')\n",
    "cur = con.cursor()"
   ]
  },
  {
   "cell_type": "code",
   "execution_count": 3,
   "metadata": {},
   "outputs": [
    {
     "data": {
      "text/plain": [
       "<sqlite3.Cursor at 0x25987a39f10>"
      ]
     },
     "execution_count": 3,
     "metadata": {},
     "output_type": "execute_result"
    }
   ],
   "source": [
    "cur.execute('''\n",
    "CREATE TABLE trx (date DATE, sales integer)\n",
    "''')\n",
    "\n",
    "cur.execute('''\n",
    "INSERT INTO trx VALUES \n",
    "('2021-01-01',100),\n",
    "('2021-01-02',34),\n",
    "('2021-01-02',123),\n",
    "('2021-01-02',134),\n",
    "('2021-01-03',145),\n",
    "('2021-01-03',24),\n",
    "('2021-01-04',541),\n",
    "('2021-01-04',636),\n",
    "('2021-01-05',322),\n",
    "('2021-01-06',242),\n",
    "('2021-01-07',22),\n",
    "('2021-01-08',46)\n",
    "''')"
   ]
  },
  {
   "cell_type": "code",
   "execution_count": 4,
   "metadata": {},
   "outputs": [
    {
     "name": "stdout",
     "output_type": "stream",
     "text": [
      "('Date', 'Total Sales')\n",
      "('2021-01-01', 100)\n",
      "('2021-01-02', 291)\n",
      "('2021-01-03', 169)\n",
      "('2021-01-04', 1177)\n",
      "('2021-01-05', 322)\n",
      "('2021-01-06', 242)\n",
      "('2021-01-07', 22)\n",
      "('2021-01-08', 46)\n"
     ]
    }
   ],
   "source": [
    "cur.execute('''\n",
    "select date, sum(sales) from trx\n",
    "group by date\n",
    "''')\n",
    "\n",
    "rows = cur.fetchall()\n",
    "print(('Date','Total Sales'))\n",
    "for row in rows:\n",
    "    print(row)"
   ]
  },
  {
   "cell_type": "code",
   "execution_count": null,
   "metadata": {},
   "outputs": [],
   "source": []
  }
 ],
 "metadata": {
  "kernelspec": {
   "display_name": "Python 3",
   "language": "python",
   "name": "python3"
  },
  "language_info": {
   "codemirror_mode": {
    "name": "ipython",
    "version": 3
   },
   "file_extension": ".py",
   "mimetype": "text/x-python",
   "name": "python",
   "nbconvert_exporter": "python",
   "pygments_lexer": "ipython3",
   "version": "3.7.6"
  }
 },
 "nbformat": 4,
 "nbformat_minor": 4
}
